{
 "cells": [
  {
   "cell_type": "code",
   "execution_count": 1,
   "metadata": {},
   "outputs": [],
   "source": [
    "import pandas as pd\n",
    "import numpy as np\n",
    "import matplotlib.pyplot as plt"
   ]
  },
  {
   "cell_type": "code",
   "execution_count": 2,
   "metadata": {},
   "outputs": [],
   "source": [
    "train = pd.read_csv('Training.csv')\n",
    "test = pd.read_csv('Testing.csv')\n",
    "output = pd.DataFrame(test.ID)"
   ]
  },
  {
   "cell_type": "markdown",
   "metadata": {},
   "source": [
    "# 数据检查及处理"
   ]
  },
  {
   "cell_type": "code",
   "execution_count": 24,
   "metadata": {},
   "outputs": [
    {
     "data": {
      "text/plain": [
       "ID             0\n",
       "Region         0\n",
       "Date           0\n",
       "Weekday        0\n",
       "Apartment      0\n",
       "Beds           0\n",
       "Review         0\n",
       "Pic Quality    0\n",
       "Price          0\n",
       "Accept         0\n",
       "dtype: int64"
      ]
     },
     "execution_count": 24,
     "metadata": {},
     "output_type": "execute_result"
    }
   ],
   "source": [
    "train.isna().sum()\n",
    "#train无空缺值"
   ]
  },
  {
   "cell_type": "code",
   "execution_count": 25,
   "metadata": {},
   "outputs": [
    {
     "data": {
      "text/plain": [
       "ID             0\n",
       "Region         0\n",
       "Date           0\n",
       "Weekday        0\n",
       "Apartment      0\n",
       "Beds           0\n",
       "Review         0\n",
       "Pic Quality    0\n",
       "Price          0\n",
       "dtype: int64"
      ]
     },
     "execution_count": 25,
     "metadata": {},
     "output_type": "execute_result"
    }
   ],
   "source": [
    "test.isna().sum()\n",
    "#test无空缺值"
   ]
  },
  {
   "cell_type": "code",
   "execution_count": 26,
   "metadata": {},
   "outputs": [
    {
     "data": {
      "text/html": [
       "<div>\n",
       "<style scoped>\n",
       "    .dataframe tbody tr th:only-of-type {\n",
       "        vertical-align: middle;\n",
       "    }\n",
       "\n",
       "    .dataframe tbody tr th {\n",
       "        vertical-align: top;\n",
       "    }\n",
       "\n",
       "    .dataframe thead th {\n",
       "        text-align: right;\n",
       "    }\n",
       "</style>\n",
       "<table border=\"1\" class=\"dataframe\">\n",
       "  <thead>\n",
       "    <tr style=\"text-align: right;\">\n",
       "      <th></th>\n",
       "      <th>ID</th>\n",
       "      <th>Region</th>\n",
       "      <th>Date</th>\n",
       "      <th>Weekday</th>\n",
       "      <th>Apartment</th>\n",
       "      <th>Beds</th>\n",
       "      <th>Review</th>\n",
       "      <th>Pic Quality</th>\n",
       "      <th>Price</th>\n",
       "    </tr>\n",
       "  </thead>\n",
       "  <tbody>\n",
       "    <tr>\n",
       "      <td>count</td>\n",
       "      <td>50000.000000</td>\n",
       "      <td>50000.000000</td>\n",
       "      <td>50000.000000</td>\n",
       "      <td>50000.00000</td>\n",
       "      <td>50000.000000</td>\n",
       "      <td>50000.000000</td>\n",
       "      <td>50000.000000</td>\n",
       "      <td>50000.000000</td>\n",
       "      <td>50000.000000</td>\n",
       "    </tr>\n",
       "    <tr>\n",
       "      <td>mean</td>\n",
       "      <td>25000.500000</td>\n",
       "      <td>5.495460</td>\n",
       "      <td>182.824300</td>\n",
       "      <td>3.99276</td>\n",
       "      <td>0.801840</td>\n",
       "      <td>1.495760</td>\n",
       "      <td>4.509402</td>\n",
       "      <td>0.750261</td>\n",
       "      <td>316.963436</td>\n",
       "    </tr>\n",
       "    <tr>\n",
       "      <td>std</td>\n",
       "      <td>14433.901067</td>\n",
       "      <td>2.862611</td>\n",
       "      <td>105.653134</td>\n",
       "      <td>2.00837</td>\n",
       "      <td>0.398617</td>\n",
       "      <td>0.693189</td>\n",
       "      <td>0.460287</td>\n",
       "      <td>0.193746</td>\n",
       "      <td>92.644791</td>\n",
       "    </tr>\n",
       "    <tr>\n",
       "      <td>min</td>\n",
       "      <td>1.000000</td>\n",
       "      <td>1.000000</td>\n",
       "      <td>1.000000</td>\n",
       "      <td>1.00000</td>\n",
       "      <td>0.000000</td>\n",
       "      <td>1.000000</td>\n",
       "      <td>3.000000</td>\n",
       "      <td>0.036809</td>\n",
       "      <td>80.000000</td>\n",
       "    </tr>\n",
       "    <tr>\n",
       "      <td>25%</td>\n",
       "      <td>12500.750000</td>\n",
       "      <td>3.000000</td>\n",
       "      <td>91.000000</td>\n",
       "      <td>2.00000</td>\n",
       "      <td>1.000000</td>\n",
       "      <td>1.000000</td>\n",
       "      <td>4.306552</td>\n",
       "      <td>0.630497</td>\n",
       "      <td>251.637842</td>\n",
       "    </tr>\n",
       "    <tr>\n",
       "      <td>50%</td>\n",
       "      <td>25000.500000</td>\n",
       "      <td>5.000000</td>\n",
       "      <td>183.000000</td>\n",
       "      <td>4.00000</td>\n",
       "      <td>1.000000</td>\n",
       "      <td>1.000000</td>\n",
       "      <td>4.652005</td>\n",
       "      <td>0.794165</td>\n",
       "      <td>315.334386</td>\n",
       "    </tr>\n",
       "    <tr>\n",
       "      <td>75%</td>\n",
       "      <td>37500.250000</td>\n",
       "      <td>8.000000</td>\n",
       "      <td>274.000000</td>\n",
       "      <td>6.00000</td>\n",
       "      <td>1.000000</td>\n",
       "      <td>2.000000</td>\n",
       "      <td>4.855238</td>\n",
       "      <td>0.908876</td>\n",
       "      <td>378.920370</td>\n",
       "    </tr>\n",
       "    <tr>\n",
       "      <td>max</td>\n",
       "      <td>50000.000000</td>\n",
       "      <td>10.000000</td>\n",
       "      <td>365.000000</td>\n",
       "      <td>7.00000</td>\n",
       "      <td>1.000000</td>\n",
       "      <td>4.000000</td>\n",
       "      <td>4.999996</td>\n",
       "      <td>0.999985</td>\n",
       "      <td>726.527643</td>\n",
       "    </tr>\n",
       "  </tbody>\n",
       "</table>\n",
       "</div>"
      ],
      "text/plain": [
       "                 ID        Region          Date      Weekday     Apartment  \\\n",
       "count  50000.000000  50000.000000  50000.000000  50000.00000  50000.000000   \n",
       "mean   25000.500000      5.495460    182.824300      3.99276      0.801840   \n",
       "std    14433.901067      2.862611    105.653134      2.00837      0.398617   \n",
       "min        1.000000      1.000000      1.000000      1.00000      0.000000   \n",
       "25%    12500.750000      3.000000     91.000000      2.00000      1.000000   \n",
       "50%    25000.500000      5.000000    183.000000      4.00000      1.000000   \n",
       "75%    37500.250000      8.000000    274.000000      6.00000      1.000000   \n",
       "max    50000.000000     10.000000    365.000000      7.00000      1.000000   \n",
       "\n",
       "               Beds        Review   Pic Quality         Price  \n",
       "count  50000.000000  50000.000000  50000.000000  50000.000000  \n",
       "mean       1.495760      4.509402      0.750261    316.963436  \n",
       "std        0.693189      0.460287      0.193746     92.644791  \n",
       "min        1.000000      3.000000      0.036809     80.000000  \n",
       "25%        1.000000      4.306552      0.630497    251.637842  \n",
       "50%        1.000000      4.652005      0.794165    315.334386  \n",
       "75%        2.000000      4.855238      0.908876    378.920370  \n",
       "max        4.000000      4.999996      0.999985    726.527643  "
      ]
     },
     "execution_count": 26,
     "metadata": {},
     "output_type": "execute_result"
    }
   ],
   "source": [
    "train_data.describe()\n",
    "#ID为不考虑的feature\n",
    "#region变为特征变量\n",
    "#Date也可以不考虑\n",
    "#Weekday变为特征变量\n",
    "#price需要归一化处理"
   ]
  },
  {
   "cell_type": "code",
   "execution_count": 27,
   "metadata": {},
   "outputs": [
    {
     "data": {
      "text/plain": [
       "(array([ 1303.,  4836., 10512., 13228., 11318.,  6104.,  2043.,   524.,\n",
       "          114.,    18.]),\n",
       " array([ 80.        , 144.65276428, 209.30552856, 273.95829284,\n",
       "        338.61105712, 403.2638214 , 467.91658568, 532.56934996,\n",
       "        597.22211424, 661.87487852, 726.5276428 ]),\n",
       " <a list of 10 Patch objects>)"
      ]
     },
     "execution_count": 27,
     "metadata": {},
     "output_type": "execute_result"
    },
    {
     "data": {
      "image/png": "[encoded data removed]",
      "text/plain": [
       "<Figure size 432x288 with 1 Axes>"
      ]
     },
     "metadata": {
      "needs_background": "light"
     },
     "output_type": "display_data"
    }
   ],
   "source": [
    "plt.hist(train_data.Price)\n",
    "#price基本符合正态分布，可以使用正态分布做归一化处理"
   ]
  },
  {
   "cell_type": "code",
   "execution_count": 92,
   "metadata": {},
   "outputs": [
    {
     "data": {
      "text/plain": [
       "<matplotlib.axes._subplots.AxesSubplot at 0x21f0c000a48>"
      ]
     },
     "execution_count": 92,
     "metadata": {},
     "output_type": "execute_result"
    },
    {
     "data": {
      "image/png": "[encoded data removed]",
      "text/plain": [
       "<Figure size 432x288 with 1 Axes>"
      ]
     },
     "metadata": {
      "needs_background": "light"
     },
     "output_type": "display_data"
    }
   ],
   "source": [
    "train_data.Beds.value_counts().plot(kind = 'bar')\n",
    "#Beds上升样本数下降"
   ]
  },
  {
   "cell_type": "code",
   "execution_count": 93,
   "metadata": {},
   "outputs": [
    {
     "data": {
      "text/plain": [
       "<matplotlib.axes._subplots.AxesSubplot at 0x21f0c8c2d08>"
      ]
     },
     "execution_count": 93,
     "metadata": {},
     "output_type": "execute_result"
    },
    {
     "data": {
      "image/png": "[encoded data removed]",
      "text/plain": [
       "<Figure size 432x288 with 1 Axes>"
      ]
     },
     "metadata": {
      "needs_background": "light"
     },
     "output_type": "display_data"
    }
   ],
   "source": [
    "train_data.Region.value_counts().plot(kind = 'bar')\n",
    "#不同地区样本数基本相同"
   ]
  },
  {
   "cell_type": "code",
   "execution_count": 94,
   "metadata": {},
   "outputs": [
    {
     "data": {
      "text/plain": [
       "(array([  119.,   476.,  1149.,  2000.,  3223.,  4635.,  6426.,  8199.,\n",
       "        10634., 13139.]),\n",
       " array([0.03680906, 0.13312664, 0.22944422, 0.3257618 , 0.42207938,\n",
       "        0.51839695, 0.61471453, 0.71103211, 0.80734969, 0.90366727,\n",
       "        0.99998484]),\n",
       " <a list of 10 Patch objects>)"
      ]
     },
     "execution_count": 94,
     "metadata": {},
     "output_type": "execute_result"
    },
    {
     "data": {
      "image/png": "[encoded data removed]",
      "text/plain": [
       "<Figure size 432x288 with 1 Axes>"
      ]
     },
     "metadata": {
      "needs_background": "light"
     },
     "output_type": "display_data"
    }
   ],
   "source": [
    "plt.hist(train_data['Pic Quality'])\n",
    "#pic质量梯度上升，变量为0-1取值的连续变量，所以不用归一化处理"
   ]
  },
  {
   "cell_type": "code",
   "execution_count": 16,
   "metadata": {},
   "outputs": [],
   "source": [
    "train_data = train.drop(['Accept','ID'],axis = 1)#Accept是目标变量，ID是无关变量，所以在train_data中去除\n",
    "train_data.Region =train_data.Region.astype('str')\n",
    "train_data.Weekday =train_data.Weekday.astype('str')#Region 和Weekday应当是类型变量，所以在此处转成字符型\n",
    "train_data.Price = (train_data.Price - train_data.Price.mean())/train_data.Price.std() #Price的正则化处理\n",
    "train_data.Review =(train_data.Review -1)/(5-1)\n",
    "train_label = train.Accept"
   ]
  },
  {
   "cell_type": "code",
   "execution_count": 39,
   "metadata": {},
   "outputs": [
    {
     "data": {
      "text/html": [
       "<div>\n",
       "<style scoped>\n",
       "    .dataframe tbody tr th:only-of-type {\n",
       "        vertical-align: middle;\n",
       "    }\n",
       "\n",
       "    .dataframe tbody tr th {\n",
       "        vertical-align: top;\n",
       "    }\n",
       "\n",
       "    .dataframe thead th {\n",
       "        text-align: right;\n",
       "    }\n",
       "</style>\n",
       "<table border=\"1\" class=\"dataframe\">\n",
       "  <thead>\n",
       "    <tr style=\"text-align: right;\">\n",
       "      <th></th>\n",
       "      <th>Region</th>\n",
       "      <th>Weekday</th>\n",
       "      <th>Apartment</th>\n",
       "      <th>Beds</th>\n",
       "      <th>Review</th>\n",
       "      <th>Pic Quality</th>\n",
       "      <th>Price</th>\n",
       "    </tr>\n",
       "  </thead>\n",
       "  <tbody>\n",
       "    <tr>\n",
       "      <td>0</td>\n",
       "      <td>4</td>\n",
       "      <td>5</td>\n",
       "      <td>1</td>\n",
       "      <td>1</td>\n",
       "      <td>4.526975</td>\n",
       "      <td>0.739994</td>\n",
       "      <td>-0.932707</td>\n",
       "    </tr>\n",
       "    <tr>\n",
       "      <td>1</td>\n",
       "      <td>2</td>\n",
       "      <td>4</td>\n",
       "      <td>1</td>\n",
       "      <td>1</td>\n",
       "      <td>4.548455</td>\n",
       "      <td>0.862642</td>\n",
       "      <td>0.337202</td>\n",
       "    </tr>\n",
       "    <tr>\n",
       "      <td>2</td>\n",
       "      <td>5</td>\n",
       "      <td>5</td>\n",
       "      <td>1</td>\n",
       "      <td>2</td>\n",
       "      <td>4.965732</td>\n",
       "      <td>0.515548</td>\n",
       "      <td>1.225097</td>\n",
       "    </tr>\n",
       "    <tr>\n",
       "      <td>3</td>\n",
       "      <td>3</td>\n",
       "      <td>2</td>\n",
       "      <td>1</td>\n",
       "      <td>1</td>\n",
       "      <td>4.752735</td>\n",
       "      <td>0.561547</td>\n",
       "      <td>-1.809686</td>\n",
       "    </tr>\n",
       "    <tr>\n",
       "      <td>4</td>\n",
       "      <td>1</td>\n",
       "      <td>2</td>\n",
       "      <td>1</td>\n",
       "      <td>2</td>\n",
       "      <td>3.890960</td>\n",
       "      <td>0.817142</td>\n",
       "      <td>-1.637429</td>\n",
       "    </tr>\n",
       "    <tr>\n",
       "      <td>...</td>\n",
       "      <td>...</td>\n",
       "      <td>...</td>\n",
       "      <td>...</td>\n",
       "      <td>...</td>\n",
       "      <td>...</td>\n",
       "      <td>...</td>\n",
       "      <td>...</td>\n",
       "    </tr>\n",
       "    <tr>\n",
       "      <td>49995</td>\n",
       "      <td>1</td>\n",
       "      <td>6</td>\n",
       "      <td>0</td>\n",
       "      <td>1</td>\n",
       "      <td>3.669174</td>\n",
       "      <td>0.858494</td>\n",
       "      <td>-1.271262</td>\n",
       "    </tr>\n",
       "    <tr>\n",
       "      <td>49996</td>\n",
       "      <td>9</td>\n",
       "      <td>1</td>\n",
       "      <td>1</td>\n",
       "      <td>2</td>\n",
       "      <td>4.849890</td>\n",
       "      <td>0.678795</td>\n",
       "      <td>0.345017</td>\n",
       "    </tr>\n",
       "    <tr>\n",
       "      <td>49997</td>\n",
       "      <td>10</td>\n",
       "      <td>3</td>\n",
       "      <td>1</td>\n",
       "      <td>2</td>\n",
       "      <td>4.971527</td>\n",
       "      <td>0.993316</td>\n",
       "      <td>0.002414</td>\n",
       "    </tr>\n",
       "    <tr>\n",
       "      <td>49998</td>\n",
       "      <td>10</td>\n",
       "      <td>3</td>\n",
       "      <td>1</td>\n",
       "      <td>2</td>\n",
       "      <td>4.951120</td>\n",
       "      <td>0.792698</td>\n",
       "      <td>1.548825</td>\n",
       "    </tr>\n",
       "    <tr>\n",
       "      <td>49999</td>\n",
       "      <td>2</td>\n",
       "      <td>2</td>\n",
       "      <td>0</td>\n",
       "      <td>1</td>\n",
       "      <td>4.921654</td>\n",
       "      <td>0.250378</td>\n",
       "      <td>-0.752951</td>\n",
       "    </tr>\n",
       "  </tbody>\n",
       "</table>\n",
       "<p>50000 rows × 7 columns</p>\n",
       "</div>"
      ],
      "text/plain": [
       "      Region Weekday  Apartment  Beds    Review  Pic Quality     Price\n",
       "0          4       5          1     1  4.526975     0.739994 -0.932707\n",
       "1          2       4          1     1  4.548455     0.862642  0.337202\n",
       "2          5       5          1     2  4.965732     0.515548  1.225097\n",
       "3          3       2          1     1  4.752735     0.561547 -1.809686\n",
       "4          1       2          1     2  3.890960     0.817142 -1.637429\n",
       "...      ...     ...        ...   ...       ...          ...       ...\n",
       "49995      1       6          0     1  3.669174     0.858494 -1.271262\n",
       "49996      9       1          1     2  4.849890     0.678795  0.345017\n",
       "49997     10       3          1     2  4.971527     0.993316  0.002414\n",
       "49998     10       3          1     2  4.951120     0.792698  1.548825\n",
       "49999      2       2          0     1  4.921654     0.250378 -0.752951\n",
       "\n",
       "[50000 rows x 7 columns]"
      ]
     },
     "execution_count": 39,
     "metadata": {},
     "output_type": "execute_result"
    }
   ],
   "source": [
    "train_data.head()"
   ]
  },
  {
   "cell_type": "markdown",
   "metadata": {},
   "source": [
    "# Naive Bayesian"
   ]
  },
  {
   "cell_type": "code",
   "execution_count": 19,
   "metadata": {},
   "outputs": [
    {
     "name": "stdout",
     "output_type": "stream",
     "text": [
      "高斯朴素贝叶斯，样本总数： 10000 错误样本数 : 2702\n",
      "交叉检验AUC评分: [0.68778154 0.69337426 0.70182254 0.70662962 0.69609557]\n"
     ]
    }
   ],
   "source": [
    "from sklearn import datasets\n",
    "from sklearn.naive_bayes import GaussianNB\n",
    "from sklearn.model_selection import train_test_split\n",
    "from sklearn.model_selection import cross_val_score #cross_validation\n",
    "train_x,test_x,train_y,test_y = train_test_split(train_data,train_label,test_size=0.2) #将train组细分成训练和检验组，检验组组占20%\n",
    "NB = GaussianNB()\n",
    "NB.fit(train_x, train_y)#用训练组数据训练模型\n",
    "y_pred = NB.predict(test_x)#用训练好的模型预测检验组的数据，并和检验组的label进行比对，得出正确率\n",
    "print(\"高斯朴素贝叶斯，样本总数： %d 错误样本数 : %d\" % (test_x.shape[0],(test_y != y_pred).sum())) #检验组样本总数 vs 检验组中分错样本数\n",
    "scores = cross_val_score(NB, train_data, train.Accept, cv=5,scoring = 'roc_auc')#5折交叉检验及评分\n",
    "print(\"交叉检验AUC评分:\",scores)\n"
   ]
  },
  {
   "cell_type": "markdown",
   "metadata": {},
   "source": [
    "# SVM"
   ]
  },
  {
   "cell_type": "code",
   "execution_count": 20,
   "metadata": {},
   "outputs": [
    {
     "name": "stderr",
     "output_type": "stream",
     "text": [
      "E:\\anaconda\\lib\\site-packages\\sklearn\\svm\\base.py:193: FutureWarning: The default value of gamma will change from 'auto' to 'scale' in version 0.22 to account better for unscaled features. Set gamma explicitly to 'auto' or 'scale' to avoid this warning.\n",
      "  \"avoid this warning.\", FutureWarning)\n",
      "E:\\anaconda\\lib\\site-packages\\sklearn\\svm\\base.py:241: ConvergenceWarning: Solver terminated early (max_iter=1000).  Consider pre-processing your data with StandardScaler or MinMaxScaler.\n",
      "  % self.max_iter, ConvergenceWarning)\n",
      "E:\\anaconda\\lib\\site-packages\\sklearn\\svm\\base.py:193: FutureWarning: The default value of gamma will change from 'auto' to 'scale' in version 0.22 to account better for unscaled features. Set gamma explicitly to 'auto' or 'scale' to avoid this warning.\n",
      "  \"avoid this warning.\", FutureWarning)\n",
      "E:\\anaconda\\lib\\site-packages\\sklearn\\svm\\base.py:241: ConvergenceWarning: Solver terminated early (max_iter=1000).  Consider pre-processing your data with StandardScaler or MinMaxScaler.\n",
      "  % self.max_iter, ConvergenceWarning)\n",
      "E:\\anaconda\\lib\\site-packages\\sklearn\\svm\\base.py:193: FutureWarning: The default value of gamma will change from 'auto' to 'scale' in version 0.22 to account better for unscaled features. Set gamma explicitly to 'auto' or 'scale' to avoid this warning.\n",
      "  \"avoid this warning.\", FutureWarning)\n",
      "E:\\anaconda\\lib\\site-packages\\sklearn\\svm\\base.py:241: ConvergenceWarning: Solver terminated early (max_iter=1000).  Consider pre-processing your data with StandardScaler or MinMaxScaler.\n",
      "  % self.max_iter, ConvergenceWarning)\n",
      "E:\\anaconda\\lib\\site-packages\\sklearn\\svm\\base.py:193: FutureWarning: The default value of gamma will change from 'auto' to 'scale' in version 0.22 to account better for unscaled features. Set gamma explicitly to 'auto' or 'scale' to avoid this warning.\n",
      "  \"avoid this warning.\", FutureWarning)\n",
      "E:\\anaconda\\lib\\site-packages\\sklearn\\svm\\base.py:241: ConvergenceWarning: Solver terminated early (max_iter=1000).  Consider pre-processing your data with StandardScaler or MinMaxScaler.\n",
      "  % self.max_iter, ConvergenceWarning)\n",
      "E:\\anaconda\\lib\\site-packages\\sklearn\\svm\\base.py:193: FutureWarning: The default value of gamma will change from 'auto' to 'scale' in version 0.22 to account better for unscaled features. Set gamma explicitly to 'auto' or 'scale' to avoid this warning.\n",
      "  \"avoid this warning.\", FutureWarning)\n",
      "E:\\anaconda\\lib\\site-packages\\sklearn\\svm\\base.py:241: ConvergenceWarning: Solver terminated early (max_iter=1000).  Consider pre-processing your data with StandardScaler or MinMaxScaler.\n",
      "  % self.max_iter, ConvergenceWarning)\n",
      "E:\\anaconda\\lib\\site-packages\\sklearn\\svm\\base.py:193: FutureWarning: The default value of gamma will change from 'auto' to 'scale' in version 0.22 to account better for unscaled features. Set gamma explicitly to 'auto' or 'scale' to avoid this warning.\n",
      "  \"avoid this warning.\", FutureWarning)\n",
      "E:\\anaconda\\lib\\site-packages\\sklearn\\svm\\base.py:241: ConvergenceWarning: Solver terminated early (max_iter=1000).  Consider pre-processing your data with StandardScaler or MinMaxScaler.\n",
      "  % self.max_iter, ConvergenceWarning)\n"
     ]
    },
    {
     "name": "stdout",
     "output_type": "stream",
     "text": [
      "SVM，样本总数： 10000 错误样本数 : 2729\n",
      "交叉检验AUC评分: [0.53109258 0.52047205 0.51763365 0.51490489 0.52557965]\n"
     ]
    }
   ],
   "source": [
    "from sklearn import svm  # svm支持向量机\n",
    "from sklearn import metrics\n",
    "from sklearn.model_selection import cross_val_score #cross_validation\n",
    "train_x,test_x,train_y,test_y = train_test_split(train_data,train_label,test_size=0.2)#把训练集按0.2的比例划分为训练集和验证集\n",
    "svmmodel = svm.SVC(max_iter =1000) #SVM在这个环境下运行速度过慢甚至不收敛，所以使用max_iter参数\n",
    "svmmodel.fit(train_x,train_y)\n",
    "y_pred = svmmodel.predict(test_x)#基于SVM对验证集做出预测\n",
    "scores = cross_val_score(svmmodel, train_data, train.Accept, cv=5,scoring = 'roc_auc')\n",
    "print(\"SVM，样本总数： %d 错误样本数 : %d\" % (test_x.shape[0],(test_y != y_pred).sum()))\n",
    "print(\"交叉检验AUC评分:\",scores)"
   ]
  },
  {
   "cell_type": "markdown",
   "metadata": {},
   "source": [
    "# AdaBoost"
   ]
  },
  {
   "cell_type": "code",
   "execution_count": 36,
   "metadata": {
    "scrolled": true
   },
   "outputs": [
    {
     "name": "stdout",
     "output_type": "stream",
     "text": [
      "Adaboost，样本总数： 10000 错误样本数 : 2643\n",
      "交叉检验AUC评分: [0.77779748 0.78104493 0.79581899 0.78823521 0.77905433]\n"
     ]
    }
   ],
   "source": [
    "from sklearn.ensemble import AdaBoostClassifier\n",
    "train_x,test_x,train_y,test_y = train_test_split(train_data,train_label,test_size=0.2) #将train组细分成训练和检验组，检验组组占20%\n",
    "ada = AdaBoostClassifier()\n",
    "ada.fit(train_x,train_y) #用训练组数据训练模型\n",
    "y_pred = ada.predict(test_x)#用训练好的模型预测检验组的数据，并和检验组的label进行比对，得出正确率\n",
    "print(\"Adaboost，样本总数： %d 错误样本数 : %d\" % (test_x.shape[0],(test_y != y_pred).sum()))\n",
    "scores = cross_val_score(ada, train_data, train.Accept, cv=5,scoring = 'roc_auc')\n",
    "print(\"交叉检验AUC评分:\",scores)\n"
   ]
  },
  {
   "cell_type": "markdown",
   "metadata": {},
   "source": [
    "# Logistic Regression"
   ]
  },
  {
   "cell_type": "code",
   "execution_count": 31,
   "metadata": {},
   "outputs": [
    {
     "name": "stderr",
     "output_type": "stream",
     "text": [
      "E:\\anaconda\\lib\\site-packages\\sklearn\\linear_model\\logistic.py:432: FutureWarning: Default solver will be changed to 'lbfgs' in 0.22. Specify a solver to silence this warning.\n",
      "  FutureWarning)\n"
     ]
    },
    {
     "name": "stdout",
     "output_type": "stream",
     "text": [
      "Adaboost，样本总数： 10000 错误样本数 : 2594\n"
     ]
    },
    {
     "name": "stderr",
     "output_type": "stream",
     "text": [
      "E:\\anaconda\\lib\\site-packages\\sklearn\\linear_model\\logistic.py:432: FutureWarning: Default solver will be changed to 'lbfgs' in 0.22. Specify a solver to silence this warning.\n",
      "  FutureWarning)\n",
      "E:\\anaconda\\lib\\site-packages\\sklearn\\linear_model\\logistic.py:432: FutureWarning: Default solver will be changed to 'lbfgs' in 0.22. Specify a solver to silence this warning.\n",
      "  FutureWarning)\n",
      "E:\\anaconda\\lib\\site-packages\\sklearn\\linear_model\\logistic.py:432: FutureWarning: Default solver will be changed to 'lbfgs' in 0.22. Specify a solver to silence this warning.\n",
      "  FutureWarning)\n",
      "E:\\anaconda\\lib\\site-packages\\sklearn\\linear_model\\logistic.py:432: FutureWarning: Default solver will be changed to 'lbfgs' in 0.22. Specify a solver to silence this warning.\n",
      "  FutureWarning)\n",
      "E:\\anaconda\\lib\\site-packages\\sklearn\\linear_model\\logistic.py:432: FutureWarning: Default solver will be changed to 'lbfgs' in 0.22. Specify a solver to silence this warning.\n",
      "  FutureWarning)\n"
     ]
    },
    {
     "name": "stdout",
     "output_type": "stream",
     "text": [
      "交叉检验AUC评分: [0.76393785 0.77239447 0.78170819 0.77188843 0.77000549]\n"
     ]
    }
   ],
   "source": [
    "from sklearn.linear_model import LogisticRegression\n",
    "train_x,test_x,train_y,test_y = train_test_split(train_data,train_label,test_size=0.2) #将train组细分成训练和检验组，检验组组占20%\n",
    "log = LogisticRegression()\n",
    "log.fit(train_x,train_y) #用训练组数据训练模型\n",
    "y_pred = log.predict(test_x)#用训练好的模型预测检验组的数据，并和检验组的label进行比对，得出正确率\n",
    "print(\"Adaboost，样本总数： %d 错误样本数 : %d\" % (test_x.shape[0],(test_y != y_pred).sum()))\n",
    "scores = cross_val_score(log, train_data, train.Accept, cv=5,scoring = 'roc_auc')\n",
    "print(\"交叉检验AUC评分:\",scores)"
   ]
  },
  {
   "cell_type": "raw",
   "metadata": {},
   "source": [
    "svm的运行速度和Auc都不如adaBoost和logisticRegression,而在不对price归一化处理的情况下使用binomialNB模型效果不如归一化之后的GaussianNB，而这两者都不如adaboost，所以使用adaboost进行进一步调参选择模型"
   ]
  },
  {
   "cell_type": "code",
   "execution_count": null,
   "metadata": {},
   "outputs": [],
   "source": [
    "#尝试以logisticRegression为弱分类器构建adaboost强分类器\n",
    "\n",
    "log = LogisticRegression()\n",
    "ada = AdaBoostClassifier(base_estimator = log)\n",
    "ada.fit(train_x,train_y) #用训练组数据训练模型\n",
    "y_pred = ada.predict(test_x)#用训练好的模型预测检验组的数据，并和检验组的label进行比对，得出正确率\n",
    "print(\"Adaboost，样本总数： %d 错误样本数 : %d\" % (test_x.shape[0],(test_y != y_pred).sum()))\n",
    "scores = cross_val_score(ada, train_data, train.Accept, cv=5,scoring = 'roc_auc')\n",
    "print(\"交叉检验AUC评分:\",scores)\n",
    "#效果不如cart为弱分类器"
   ]
  },
  {
   "cell_type": "markdown",
   "metadata": {},
   "source": [
    "# 选择adaboost弱分类器数量"
   ]
  },
  {
   "cell_type": "raw",
   "metadata": {},
   "source": [
    "最终选择Adaboost作为选择模型,以logistic为弱分类器的adaboost不如以cart为弱分类器(default)的adaboost\n",
    "通过目标函数为AUC的交叉检验选择最适合的分类器数量"
   ]
  },
  {
   "cell_type": "code",
   "execution_count": 64,
   "metadata": {
    "scrolled": false
   },
   "outputs": [
    {
     "name": "stdout",
     "output_type": "stream",
     "text": [
      "20 AUC: 0.7641282876067356\n",
      "40 AUC: 0.7812982615543709\n",
      "60 AUC: 0.7864128129213711\n",
      "80 AUC: 0.7886671609913167\n",
      "100 AUC: 0.7891544731154733\n",
      "120 AUC: 0.789889273656185\n",
      "140 AUC: 0.790317264027548\n",
      "160 AUC: 0.7902934813803786\n",
      "180 AUC: 0.7904004004777558\n",
      "200 AUC: 0.7903909105647802\n",
      "220 AUC: 0.7906073888871685\n",
      "240 AUC: 0.7904707083324738\n",
      "260 AUC: 0.7903951242240947\n",
      "280 AUC: 0.7902967248858457\n",
      "300 AUC: 0.7902665955330528\n"
     ]
    }
   ],
   "source": [
    "#选择最合适的迭代次数，目标函数是AUC\n",
    "auc = []\n",
    "for i in range(20,320,20):\n",
    "    ada = AdaBoostClassifier(n_estimators = i)\n",
    "    scores_auc = cross_val_score(ada, train_data, train.Accept, cv=5,scoring = 'roc_auc') \n",
    "    auc.append([i,scores_auc.mean()])\n",
    "    print(i,\"AUC:\",scores_auc.mean())"
   ]
  },
  {
   "cell_type": "code",
   "execution_count": 80,
   "metadata": {},
   "outputs": [
    {
     "data": {
      "text/plain": [
       "[<matplotlib.lines.Line2D at 0x21f77447788>]"
      ]
     },
     "execution_count": 80,
     "metadata": {},
     "output_type": "execute_result"
    },
    {
     "data": {
      "image/png": "[encoded data removed]",
      "text/plain": [
       "<Figure size 432x288 with 1 Axes>"
      ]
     },
     "metadata": {
      "needs_background": "light"
     },
     "output_type": "display_data"
    }
   ],
   "source": [
    "p = np.array(auc)\n",
    "plt.plot(p[:,0],p[:,1])\n",
    "#选用200个弱分类器"
   ]
  },
  {
   "cell_type": "code",
   "execution_count": 81,
   "metadata": {},
   "outputs": [
    {
     "data": {
      "text/plain": [
       "AdaBoostClassifier(algorithm='SAMME.R', base_estimator=None, learning_rate=1.0,\n",
       "                   n_estimators=200, random_state=None)"
      ]
     },
     "execution_count": 81,
     "metadata": {},
     "output_type": "execute_result"
    }
   ],
   "source": [
    "#构建adaboost模型\n",
    "ada = AdaBoostClassifier(n_estimators = 200)\n",
    "ada.fit(train_data,train_label)"
   ]
  },
  {
   "cell_type": "code",
   "execution_count": 82,
   "metadata": {},
   "outputs": [],
   "source": [
    "#相同方式处理test数据集\n",
    "test.set_index('ID')\n",
    "test_data = train.drop(['Accept','ID'],axis = 1)\n",
    "test_data.Region =test_data.Region.astype('str')\n",
    "test_data.Weekday =test_data.Weekday.astype('str')\n",
    "test_data.Price = (test_data.Price - test_data.Price.mean())/test_data.Price.std()"
   ]
  },
  {
   "cell_type": "code",
   "execution_count": 84,
   "metadata": {},
   "outputs": [],
   "source": [
    "Probability = ada.predict_proba(test_data)\n",
    "output['probability'] = pd.DataFrame(Probability[:,1])"
   ]
  },
  {
   "cell_type": "code",
   "execution_count": 85,
   "metadata": {},
   "outputs": [],
   "source": [
    "output.to_csv('result.csv',index = False)"
   ]
  }
 ],
 "metadata": {
  "kernelspec": {
   "display_name": "Python 3",
   "language": "python",
   "name": "python3"
  },
  "language_info": {
   "codemirror_mode": {
    "name": "ipython",
    "version": 3
   },
   "file_extension": ".py",
   "mimetype": "text/x-python",
   "name": "python",
   "nbconvert_exporter": "python",
   "pygments_lexer": "ipython3",
   "version": "3.7.4"
  }
 },
 "nbformat": 4,
 "nbformat_minor": 2
}
